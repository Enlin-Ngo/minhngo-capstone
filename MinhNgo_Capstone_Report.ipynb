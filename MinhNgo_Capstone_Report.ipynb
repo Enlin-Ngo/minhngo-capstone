{
    "cells": [
        {
            "metadata": {
                "collapsed": true
            },
            "cell_type": "markdown",
            "source": "# IBM CAPSTONE PROJECT\n# by MINH NGO \n### Introduction/Business Problem\n\nIn Ho Chi Minh city, Vietnam, a famous international fastfood chain is going to open their first restaurant. The company will need recommendation for the best location for their restaurant. Because Ho Chi Minh city is very famous for its various types of "
        }
    ],
    "metadata": {
        "kernelspec": {
            "name": "python3",
            "display_name": "Python 3.6",
            "language": "python"
        },
        "language_info": {
            "name": "python",
            "version": "3.6.8",
            "mimetype": "text/x-python",
            "codemirror_mode": {
                "name": "ipython",
                "version": 3
            },
            "pygments_lexer": "ipython3",
            "nbconvert_exporter": "python",
            "file_extension": ".py"
        }
    },
    "nbformat": 4,
    "nbformat_minor": 1
}